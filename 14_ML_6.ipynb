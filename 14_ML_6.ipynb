{
 "cells": [
  {
   "cell_type": "markdown",
   "metadata": {},
   "source": [
    "## Name: Kore Aishwarya Dhananjay\n",
    "## Roll No. 2447014\n",
    "## Class: BE(AI&DS)\n"
   ]
  },
  {
   "cell_type": "code",
   "execution_count": 1,
   "metadata": {},
   "outputs": [],
   "source": [
    "import numpy as np\n",
    "import random"
   ]
  },
  {
   "cell_type": "code",
   "execution_count": 2,
   "metadata": {},
   "outputs": [],
   "source": [
    "maze = [\n",
    "    [0, 0, 0, -10, 0],\n",
    "    [0, -10, 0, -10, 0],\n",
    "    [0, -10, 0, 0, 0],\n",
    "    [0, 0, 0, -10, 0],\n",
    "    [0, 0, 0, 0, 100]  \n",
    "]\n",
    "\n",
    "alpha = 0.1      \n",
    "gamma = 0.9      \n",
    "epsilon = 1.0    \n",
    "epsilon_decay = 0.99\n",
    "min_epsilon = 0.01\n",
    "episodes = 500   \n",
    "max_steps = 100  \n",
    "\n",
    "q_table = np.zeros((5, 5, 4))\n",
    "\n",
    "actions = ['up', 'down', 'left', 'right']\n",
    "action_dict = {\n",
    "    'up': (-1, 0),\n",
    "    'down': (1, 0),\n",
    "    'left': (0, -1),\n",
    "    'right': (0, 1)\n",
    "}"
   ]
  },
  {
   "cell_type": "code",
   "execution_count": 3,
   "metadata": {},
   "outputs": [],
   "source": [
    "def get_next_state(state, action):\n",
    "    \"\"\"Move to the next state based on the action taken.\"\"\"\n",
    "    row, col = state\n",
    "    row_move, col_move = action_dict[action]\n",
    "    new_row, new_col = row + row_move, col + col_move\n",
    "    \n",
    "    if new_row < 0 or new_row >= len(maze) or new_col < 0 or new_col >= len(maze[0]):\n",
    "        return state  \n",
    "    return (new_row, new_col)\n",
    "\n",
    "def get_reward(state):\n",
    "    row, col = state\n",
    "    return maze[row][col]\n",
    "\n",
    "def select_action(state):\n",
    "    if random.uniform(0, 1) < epsilon:\n",
    "        return random.choice(actions)  \n",
    "    else:\n",
    "        return actions[np.argmax(q_table[state[0], state[1]])]  "
   ]
  },
  {
   "cell_type": "code",
   "execution_count": 4,
   "metadata": {},
   "outputs": [
    {
     "name": "stdout",
     "output_type": "stream",
     "text": [
      "Episode 0, Total Reward: -80\n",
      "Episode 100, Total Reward: 90\n",
      "Episode 200, Total Reward: 100\n",
      "Episode 300, Total Reward: 100\n",
      "Episode 400, Total Reward: 100\n",
      "\n",
      "Optimal Path:\n",
      "State: (0, 0), Action: down\n",
      "State: (1, 0), Action: down\n",
      "State: (2, 0), Action: down\n",
      "State: (3, 0), Action: right\n",
      "State: (3, 1), Action: down\n",
      "State: (4, 1), Action: right\n",
      "State: (4, 2), Action: right\n",
      "State: (4, 3), Action: right\n",
      "Reached the goal in 8 steps!\n"
     ]
    }
   ],
   "source": [
    "for episode in range(episodes):\n",
    "    state = (0, 0)  \n",
    "    total_reward = 0\n",
    "    \n",
    "    for step in range(max_steps):\n",
    "        action = select_action(state)\n",
    "        next_state = get_next_state(state, action)\n",
    "        \n",
    "        reward = get_reward(next_state)\n",
    "        total_reward += reward\n",
    "        action_index = actions.index(action)\n",
    "        \n",
    "        q_table[state[0], state[1], action_index] = q_table[state[0], state[1], action_index] + alpha * (\n",
    "            reward + gamma * np.max(q_table[next_state[0], next_state[1]]) - q_table[state[0], state[1], action_index])\n",
    "        \n",
    "        state = next_state\n",
    "        \n",
    "        if reward == 100:\n",
    "            break\n",
    "    \n",
    "    epsilon = max(min_epsilon, epsilon * epsilon_decay)\n",
    "    \n",
    "    if episode % 100 == 0:\n",
    "        print(f\"Episode {episode}, Total Reward: {total_reward}\")\n",
    "\n",
    "state = (0, 0)\n",
    "steps = 0\n",
    "print(\"\\nOptimal Path:\")\n",
    "while state != (4, 4) and steps < max_steps:\n",
    "    action = select_action(state)\n",
    "    next_state = get_next_state(state, action)\n",
    "    print(f\"State: {state}, Action: {action}\")\n",
    "    state = next_state\n",
    "    steps += 1\n",
    "\n",
    "if state == (4, 4):\n",
    "    print(f\"Reached the goal in {steps} steps!\")\n",
    "else:\n",
    "    print(\"Failed to reach the goal.\")"
   ]
  },
  {
   "cell_type": "code",
   "execution_count": null,
   "metadata": {},
   "outputs": [],
   "source": []
  }
 ],
 "metadata": {
  "kernelspec": {
   "display_name": "Python 3 (ipykernel)",
   "language": "python",
   "name": "python3"
  },
  "language_info": {
   "codemirror_mode": {
    "name": "ipython",
    "version": 3
   },
   "file_extension": ".py",
   "mimetype": "text/x-python",
   "name": "python",
   "nbconvert_exporter": "python",
   "pygments_lexer": "ipython3",
   "version": "3.11.5"
  }
 },
 "nbformat": 4,
 "nbformat_minor": 4
}
